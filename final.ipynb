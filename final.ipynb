{
  "cells": [
    {
      "cell_type": "code",
      "execution_count": 120,
      "metadata": {
        "colab": {
          "base_uri": "https://localhost:8080/"
        },
        "id": "Xgq7Z190BmFG",
        "outputId": "75737f43-71e9-4efc-9e65-ed0c1f7e376d"
      },
      "outputs": [
        {
          "data": {
            "text/plain": [
              "746"
            ]
          },
          "execution_count": 120,
          "metadata": {},
          "output_type": "execute_result"
        }
      ],
      "source": [
        "len(stopwords)"
      ]
    },
    {
      "cell_type": "code",
      "execution_count": 122,
      "metadata": {
        "id": "gF_03S6Eh5pU"
      },
      "outputs": [],
      "source": [
        "import numpy as np \n",
        "import pandas as pd \n",
        "\n",
        "def get_data(data_file_path):\n",
        "    lines = [] #經斷詞處理的簡訊\n",
        "    labels = [] #標籤結果\n",
        "    for line in open(data_file_path, \"r\", encoding=\"utf-8\"):\n",
        "        arr = line.rstrip().split(\"\\t\")\n",
        "        if len(arr) < 3: #資料集應有三欄，若小於三欄判斷為缺失資料，將其跳過\n",
        "            continue \n",
        "        if int(arr[0]) == 1:\n",
        "            label = 1\n",
        "        elif int(arr[0]) == 0 or int(arr[0]) == -1:\n",
        "            label = 0\n",
        "        else:\n",
        "            continue\n",
        "        labels.append(label)\n",
        "        line = arr[2].split()\n",
        "        lines.append(line)\n",
        "    return lines, labels\n",
        "\n",
        "\n",
        "def create_vocab_dict(data_lines):\n",
        "    vocab_dict = {}\n",
        "    for data_line in data_lines:\n",
        "        for word in data_line:\n",
        "            if word in vocab_dict:\n",
        "                vocab_dict[word] += 1 #如字典裡已經有該詞，出現次數+1\n",
        "            else:\n",
        "                vocab_dict[word] = 1 #如字典裡沒有該詞，將出現次數初始化設定為1\n",
        "    return vocab_dict\n",
        "\n",
        "\n",
        "def BOW_feature(vocab_list, input_line):\n",
        "    return_vec = np.zeros(len(vocab_list), )\n",
        "    for word in input_line:\n",
        "        if word in vocab_list:\n",
        "            return_vec[vocab_list.index(word)] += 1 #如果簡訊內包含字典內的詞彙，根據詞彙id標記出現次數+1\n",
        "    return return_vec\n",
        "\n",
        "\n",
        "if __name__ == \"__main__\":\n",
        "\n",
        "    train_file_path = \"mudou_spam_train.txt\"\n",
        "    test_file_path = \"mudou_spam_test.txt\"\n",
        "\n",
        "    train_data, train_label = get_data(train_file_path)\n",
        "    test_data, test_label = get_data(test_file_path)\n",
        "\n",
        "\n",
        "    vocab_dict = create_vocab_dict(train_data)\n",
        "    sorted_vocab_list = sorted(vocab_dict.items(), key=lambda d:d[1], reverse=True)\n",
        "    min_freq = 5\n",
        "    vocab_list = [v[0] for v in sorted_vocab_list if int(v[1]) > min_freq]\n",
        "    vocab_list = [v for v in vocab_list if v not in stopwords]\n",
        "   \n",
        "    train_X = []\n",
        "    for one_msg in train_data:\n",
        "        train_X.append(BOW_feature(vocab_list, one_msg))\n",
        "\n",
        "\n",
        "    test_X = []\n",
        "    for one_msg in test_data:\n",
        "        test_X.append(BOW_feature(vocab_list, one_msg))\n",
        "\n",
        "    train_X = np.array(train_X)\n",
        "    test_X = np.array(test_X)\n",
        "    train_label = np.array(train_label)\n",
        "    test_label = np.array(test_label)\n",
        "    with open('train_X.npy', 'wb') as tr_X:\n",
        "        np.save(tr_X, train_X)\n",
        "    with open('test_X.npy', 'wb') as te_X:\n",
        "        np.save(te_X, test_X)\n",
        "    with open('train_label.npy', 'wb') as tr_y:\n",
        "        np.save(tr_y, train_label)\n",
        "    with open('test_label.npy', 'wb') as te_y:\n",
        "        np.save(te_y, test_label)"
      ]
    },
    {
      "cell_type": "code",
      "execution_count": 121,
      "metadata": {
        "id": "E-hpPqG2BELi"
      },
      "outputs": [],
      "source": [
        "stopwords = []\n",
        "for stopword in open('cn_stopwords.txt', \"r\", encoding=\"utf-8\"):\n",
        "    stopwords.append(stopword.split('\\n')[0])\n",
        "vocab_list = [v for v in vocab_list if v not in stopwords]"
      ]
    },
    {
      "cell_type": "code",
      "execution_count": 126,
      "metadata": {
        "colab": {
          "base_uri": "https://localhost:8080/"
        },
        "id": "KUWeE4QPiBZM",
        "outputId": "27fdef82-9a36-47c5-c826-5fbe568b2120"
      },
      "outputs": [
        {
          "data": {
            "text/plain": [
              "(10832, 5759)"
            ]
          },
          "execution_count": 126,
          "metadata": {},
          "output_type": "execute_result"
        }
      ],
      "source": [
        "train_X.shape"
      ]
    },
    {
      "cell_type": "code",
      "execution_count": 46,
      "metadata": {
        "id": "B5nPC70Qdj23"
      },
      "outputs": [],
      "source": [
        "with open('train_X.npy', 'rb') as tr_X:\n",
        "  train_X = np.load(tr_X,allow_pickle=True)\n",
        "with open('test_X.npy', 'rb') as te_X:\n",
        "  test_X = np.load(te_X,allow_pickle=True)\n",
        "with open('train_label.npy', 'rb') as tr_y:\n",
        "  train_label = np.load(tr_y,allow_pickle=True)\n",
        "with open('test_label.npy', 'rb') as te_y:\n",
        "  test_label = np.load(te_y,allow_pickle=True)"
      ]
    },
    {
      "cell_type": "markdown",
      "metadata": {
        "id": "54e4bhKyHZv7"
      },
      "source": [
        "資料分布    \n",
        "\n",
        "|     |ham (0) |spam (1)|total|\n",
        "|-----|--------|--------|-----|\n",
        "|train|3933    |6899    |10832|\n",
        "|test |491     |888     |1379 |  "
      ]
    },
    {
      "cell_type": "code",
      "execution_count": 95,
      "metadata": {
        "id": "x5f4TDVNPpSf"
      },
      "outputs": [],
      "source": [
        "from imblearn.under_sampling import RandomUnderSampler\n",
        "rus = RandomUnderSampler(random_state=42)\n",
        "resampled_X, resampled_label = rus.fit_resample(train_X,train_label)"
      ]
    },
    {
      "cell_type": "code",
      "execution_count": 125,
      "metadata": {
        "colab": {
          "base_uri": "https://localhost:8080/"
        },
        "id": "wi4OS8SxIWYO",
        "outputId": "09029c6f-aa64-4c49-c809-b926f8b51f22"
      },
      "outputs": [
        {
          "data": {
            "text/plain": [
              "(7866, 50)"
            ]
          },
          "execution_count": 125,
          "metadata": {},
          "output_type": "execute_result"
        }
      ],
      "source": [
        "resampled_X.shape"
      ]
    },
    {
      "cell_type": "code",
      "execution_count": 62,
      "metadata": {
        "colab": {
          "base_uri": "https://localhost:8080/"
        },
        "id": "K393qaa1FvSM",
        "outputId": "2bee7d35-035f-414a-e145-4250a9d18c66"
      },
      "outputs": [
        {
          "name": "stdout",
          "output_type": "stream",
          "text": [
            "[0 1] [3933 6899]\n",
            "[0 1] [491 888]\n",
            "[0 1] [3146 5519]\n",
            "[0 1] [ 787 1380]\n"
          ]
        }
      ],
      "source": [
        "from sklearn import metrics\n",
        "from sklearn.model_selection import train_test_split\n",
        "train_unique, train_counts = np.unique(train_label, return_counts=True)\n",
        "print(train_unique, train_counts)\n",
        "test_unique, test_counts = np.unique(test_label, return_counts=True)\n",
        "print(test_unique, test_counts)\n",
        "\n",
        "train_X_, val_X, train_label_, val_label = train_test_split(train_X, train_label, test_size=.2, stratify=train_label, random_state=42)\n",
        "train_unique, train_counts = np.unique(train_label_, return_counts=True)\n",
        "print(train_unique, train_counts)\n",
        "val_unique, val_counts = np.unique(val_label, return_counts=True)\n",
        "print(val_unique, val_counts)\n"
      ]
    },
    {
      "cell_type": "code",
      "execution_count": 127,
      "metadata": {
        "colab": {
          "base_uri": "https://localhost:8080/"
        },
        "id": "VcJ-IrTyQM3v",
        "outputId": "d02642c1-5b31-4427-dce8-1cc484670233"
      },
      "outputs": [
        {
          "name": "stdout",
          "output_type": "stream",
          "text": [
            "Train accuracy:  0.9919682422451994\n",
            "Test accuracy:  0.9651921682378535\n",
            "Test Cross Entropy Loss:  0.1176503895005528\n"
          ]
        }
      ],
      "source": [
        "from sklearn.linear_model import LogisticRegression\n",
        "reg_model = LogisticRegression(max_iter=1000)\n",
        "reg_model.fit(train_X, train_label)\n",
        "reg_y_pred = reg_model.predict(test_X)\n",
        "\n",
        "train_acc = reg_model.score(train_X, train_label)\n",
        "print(\"Train accuracy: \", train_acc)\n",
        "test_acc = reg_model.score(test_X, test_label)\n",
        "print(\"Test accuracy: \", test_acc)\n",
        "\n",
        "pred_prob_y = reg_model.predict_proba(test_X)[:, 1]\n",
        "reg_loss = metrics.log_loss(test_label, pred_prob_y)\n",
        "print(\"Test Cross Entropy Loss: \", reg_loss)"
      ]
    },
    {
      "cell_type": "code",
      "execution_count": 64,
      "metadata": {
        "colab": {
          "base_uri": "https://localhost:8080/"
        },
        "id": "qPZJVVZbctpD",
        "outputId": "fa3ae4c9-0497-47e4-c510-742f0cf5696a"
      },
      "outputs": [
        {
          "name": "stdout",
          "output_type": "stream",
          "text": [
            "Best Max Depth:  10\n",
            "Min Cross Entropy Loss:  0.4293096367112812\n"
          ]
        }
      ],
      "source": [
        "from sklearn.tree import DecisionTreeClassifier\n",
        "max_dep = 15\n",
        "best_max_dep = 15\n",
        "min_loss = 10\n",
        "while max_dep > 5:\n",
        "  dt_model = DecisionTreeClassifier(max_depth = max_dep)\n",
        "  dt_model.fit(train_X_, train_label_)\n",
        "  pred_prob_y = dt_model.predict_proba(val_X)[:, 1]\n",
        "  current_loss = metrics.log_loss(val_label, pred_prob_y)\n",
        "  if current_loss < min_loss:\n",
        "    min_loss = current_loss\n",
        "    best_max_dep = max_dep\n",
        "  max_dep -= 1\n",
        "print(\"Best Max Depth: \", best_max_dep)\n",
        "print(\"Min Cross Entropy Loss: \", min_loss)"
      ]
    },
    {
      "cell_type": "code",
      "execution_count": 128,
      "metadata": {
        "colab": {
          "base_uri": "https://localhost:8080/"
        },
        "id": "Z8S4NjBiIszd",
        "outputId": "e6a84b4b-1d11-409a-bc7b-a3b19f606214"
      },
      "outputs": [
        {
          "name": "stdout",
          "output_type": "stream",
          "text": [
            "Train accuracy:  0.8509047267355982\n",
            "Test accuracy:  0.8339376359680928\n",
            "Test Cross Entropy Loss:  0.45621561548491285\n"
          ]
        }
      ],
      "source": [
        "from sklearn.tree import DecisionTreeClassifier\n",
        "dt_model = DecisionTreeClassifier(max_depth = 10)\n",
        "dt_model.fit(train_X, train_label)\n",
        "dt_y_pred = dt_model.predict(test_X)\n",
        "\n",
        "train_acc = dt_model.score(train_X, train_label)\n",
        "print(\"Train accuracy: \", train_acc)\n",
        "test_acc = dt_model.score(test_X, test_label)\n",
        "print(\"Test accuracy: \", test_acc)\n",
        "\n",
        "pred_prob_y = dt_model.predict_proba(test_X)[:, 1]\n",
        "dt_loss = metrics.log_loss(test_label, pred_prob_y)\n",
        "print(\"Test Cross Entropy Loss: \", dt_loss)"
      ]
    },
    {
      "cell_type": "code",
      "execution_count": 129,
      "metadata": {
        "colab": {
          "base_uri": "https://localhost:8080/"
        },
        "id": "u57eMqlDtESV",
        "outputId": "109f88f2-9484-4f12-8f29-8c9fed149625"
      },
      "outputs": [
        {
          "name": "stdout",
          "output_type": "stream",
          "text": [
            "Train accuracy:  0.9987075332348597\n",
            "Test accuracy:  0.9644670050761421\n",
            "Test Cross Entropy Loss:  0.12767904744708955\n"
          ]
        }
      ],
      "source": [
        "from sklearn.ensemble import RandomForestClassifier\n",
        "rf_model = RandomForestClassifier(n_estimators=200, random_state=42)\n",
        "rf_model.fit(train_X, train_label)\n",
        "rf_y_pred = rf_model.predict(test_X)\n",
        "\n",
        "train_acc = rf_model.score(train_X, train_label)\n",
        "print(\"Train accuracy: \", train_acc)\n",
        "test_acc = rf_model.score(test_X, test_label)\n",
        "print(\"Test accuracy: \", test_acc)\n",
        "\n",
        "pred_prob_y = rf_model.predict_proba(test_X)[:, 1]\n",
        "rf_loss = metrics.log_loss(test_label, pred_prob_y)\n",
        "print(\"Test Cross Entropy Loss: \", rf_loss)"
      ]
    },
    {
      "cell_type": "code",
      "execution_count": 130,
      "metadata": {
        "colab": {
          "base_uri": "https://localhost:8080/"
        },
        "id": "e02DLsVqQe_8",
        "outputId": "b30d96aa-18b1-43b1-84d5-155d9d2f64fb"
      },
      "outputs": [
        {
          "name": "stdout",
          "output_type": "stream",
          "text": [
            "Train accuracy:  0.9572562776957164\n",
            "Test accuracy:  0.9274836838288615\n",
            "Test Cross Entropy Loss:  2.5046416445370157\n"
          ]
        }
      ],
      "source": [
        "from sklearn.naive_bayes import GaussianNB\n",
        "nb_model = GaussianNB()\n",
        "nb_model.fit(train_X, train_label)\n",
        "nb_y_pred = nb_model.predict(test_X)\n",
        "\n",
        "train_acc = nb_model.score(train_X, train_label)\n",
        "print(\"Train accuracy: \", train_acc)\n",
        "test_acc = nb_model.score(test_X, test_label)\n",
        "print(\"Test accuracy: \", test_acc)\n",
        "\n",
        "pred_prob_y = nb_model.predict_proba(test_X)[:, 1]\n",
        "nb_loss = metrics.log_loss(test_label, pred_prob_y)\n",
        "print(\"Test Cross Entropy Loss: \", nb_loss)"
      ]
    },
    {
      "cell_type": "code",
      "execution_count": 73,
      "metadata": {
        "colab": {
          "base_uri": "https://localhost:8080/",
          "height": 1000
        },
        "id": "MYN0iJIeeanw",
        "outputId": "37675df7-9089-4ba8-a093-9a5585424095"
      },
      "outputs": [
        {
          "data": {
            "image/png": "[encoded data removed]",
            "text/plain": [
              "<Figure size 432x288 with 2 Axes>"
            ]
          },
          "metadata": {
            "needs_background": "light"
          },
          "output_type": "display_data"
        },
        {
          "data": {
            "image/png": "[encoded data removed]",
            "text/plain": [
              "<Figure size 432x288 with 2 Axes>"
            ]
          },
          "metadata": {
            "needs_background": "light"
          },
          "output_type": "display_data"
        },
        {
          "data": {
            "image/png": "[encoded data removed]",
            "text/plain": [
              "<Figure size 432x288 with 2 Axes>"
            ]
          },
          "metadata": {
            "needs_background": "light"
          },
          "output_type": "display_data"
        },
        {
          "data": {
            "image/png": "[encoded data removed]",
            "text/plain": [
              "<Figure size 432x288 with 2 Axes>"
            ]
          },
          "metadata": {
            "needs_background": "light"
          },
          "output_type": "display_data"
        }
      ],
      "source": [
        "import matplotlib.pyplot as plt\n",
        "import seaborn as sns\n",
        "\n",
        "reg_confusion_matrix = metrics.confusion_matrix(reg_y_pred,test_label)\n",
        "reg_cm = sns.heatmap(reg_confusion_matrix, annot=True, cmap='Oranges')\n",
        "reg_cm.set_title('Regression Confusion Matrix')\n",
        "reg_cm.set_xlabel('Predicted Values')\n",
        "reg_cm.set_ylabel('Actual Values')\n",
        "reg_cm.xaxis.set_ticklabels(['ham','spam'])\n",
        "reg_cm.yaxis.set_ticklabels(['ham','spam'])\n",
        "plt.show()\n",
        "\n",
        "dt_confusion_matrix = metrics.confusion_matrix(dt_y_pred,test_label)\n",
        "dt_cm = sns.heatmap(dt_confusion_matrix, annot=True, cmap='Oranges')\n",
        "dt_cm.set_title('Decision Tree Confusion Matrix')\n",
        "dt_cm.set_xlabel('Predicted Values')\n",
        "dt_cm.set_ylabel('Actual Values')\n",
        "dt_cm.xaxis.set_ticklabels(['ham','spam'])\n",
        "dt_cm.yaxis.set_ticklabels(['ham','spam'])\n",
        "plt.show()\n",
        "\n",
        "rf_confusion_matrix = metrics.confusion_matrix(rf_y_pred,test_label)\n",
        "rf_cm = sns.heatmap(rf_confusion_matrix, annot=True, cmap='Oranges')\n",
        "rf_cm.set_title('Random Forest Confusion Matrix')\n",
        "rf_cm.set_xlabel('Predicted Values')\n",
        "rf_cm.set_ylabel('Actual Values')\n",
        "rf_cm.xaxis.set_ticklabels(['ham','spam'])\n",
        "rf_cm.yaxis.set_ticklabels(['ham','spam'])\n",
        "plt.show()\n",
        "\n",
        "nb_confusion_matrix = metrics.confusion_matrix(nb_y_pred,test_label)\n",
        "nb_cm = sns.heatmap(nb_confusion_matrix, annot=True, cmap='Oranges')\n",
        "nb_cm.set_title('Naive Bayes Confusion Matrix')\n",
        "nb_cm.set_xlabel('Predicted Values')\n",
        "nb_cm.set_ylabel('Actual Values')\n",
        "nb_cm.xaxis.set_ticklabels(['ham','spam'])\n",
        "nb_cm.yaxis.set_ticklabels(['ham','spam'])\n",
        "plt.show()"
      ]
    },
    {
      "cell_type": "code",
      "execution_count": 54,
      "metadata": {
        "colab": {
          "base_uri": "https://localhost:8080/"
        },
        "id": "-M5eB0lbNHCh",
        "outputId": "ad1d94be-a4c5-4445-c71e-2f347ebc4996"
      },
      "outputs": [
        {
          "name": "stdout",
          "output_type": "stream",
          "text": [
            "Train accuracy:  0.9861521418020679\n",
            "Test accuracy:  0.9601160261058739\n",
            "Test Cross Entropy Loss:  0.6562899350222454\n"
          ]
        }
      ],
      "source": [
        "from sklearn.neural_network import MLPClassifier\n",
        "mlp_model = MLPClassifier(solver='lbfgs', alpha=1e-5,hidden_layer_sizes=(5, 2), random_state=42)\n",
        "mlp_model.fit(resampled_X, resampled_label)\n",
        "mlp_y_pred = mlp_model.predict(test_X)\n",
        "\n",
        "train_acc = mlp_model.score(train_X, train_label)\n",
        "print(\"Train accuracy: \", train_acc)\n",
        "test_acc = mlp_model.score(test_X, test_label)\n",
        "print(\"Test accuracy: \", test_acc)\n",
        "\n",
        "pred_prob_y = mlp_model.predict_proba(test_X)[:, 1]\n",
        "mlp_loss = metrics.log_loss(test_label, pred_prob_y)\n",
        "print(\"Test Cross Entropy Loss: \", mlp_loss)"
      ]
    },
    {
      "cell_type": "code",
      "execution_count": 86,
      "metadata": {
        "colab": {
          "base_uri": "https://localhost:8080/",
          "height": 295
        },
        "id": "MhjBZSTgTgPP",
        "outputId": "76d76112-bdd9-4916-e43d-00950bdedb95"
      },
      "outputs": [
        {
          "data": {
            "image/png": "[encoded data removed]",
            "text/plain": [
              "<Figure size 432x288 with 2 Axes>"
            ]
          },
          "metadata": {
            "needs_background": "light"
          },
          "output_type": "display_data"
        }
      ],
      "source": [
        "from sklearn import metrics\n",
        "import matplotlib.pyplot as plt\n",
        "import seaborn as sns\n",
        "mlp_confusion_matrix = metrics.confusion_matrix(mlp_y_pred,test_label)\n",
        "mlp_cm = sns.heatmap(mlp_confusion_matrix, annot=True, cmap='Blues')\n",
        "mlp_cm.set_title('MLP Confusion Matrix')\n",
        "mlp_cm.set_xlabel('Predicted Values')\n",
        "mlp_cm.set_ylabel('Actual Values')\n",
        "mlp_cm.xaxis.set_ticklabels(['ham','spam'])\n",
        "mlp_cm.yaxis.set_ticklabels(['ham','spam'])\n",
        "plt.show()"
      ]
    },
    {
      "cell_type": "code",
      "execution_count": 111,
      "metadata": {
        "colab": {
          "base_uri": "https://localhost:8080/",
          "height": 369
        },
        "id": "s_AsUO7GmlXr",
        "outputId": "b9956785-a284-4887-99de-674db9e5752c"
      },
      "outputs": [
        {
          "name": "stdout",
          "output_type": "stream",
          "text": [
            "32450\n",
            "4632\n"
          ]
        },
        {
          "ename": "NameError",
          "evalue": "ignored",
          "output_type": "error",
          "traceback": [
            "\u001b[0;31m---------------------------------------------------------------------------\u001b[0m",
            "\u001b[0;31mNameError\u001b[0m                                 Traceback (most recent call last)",
            "\u001b[0;32m<ipython-input-111-f7b4232ca944>\u001b[0m in \u001b[0;36m<module>\u001b[0;34m()\u001b[0m\n\u001b[1;32m     58\u001b[0m \u001b[0mvocab_dict\u001b[0m \u001b[0;34m=\u001b[0m \u001b[0;34m{\u001b[0m\u001b[0mkey\u001b[0m\u001b[0;34m:\u001b[0m\u001b[0mval\u001b[0m \u001b[0;32mfor\u001b[0m \u001b[0mkey\u001b[0m\u001b[0;34m,\u001b[0m \u001b[0mval\u001b[0m \u001b[0;32min\u001b[0m \u001b[0mvocab_dict\u001b[0m\u001b[0;34m.\u001b[0m\u001b[0mitems\u001b[0m\u001b[0;34m(\u001b[0m\u001b[0;34m)\u001b[0m \u001b[0;32mif\u001b[0m \u001b[0mval\u001b[0m \u001b[0;34m>\u001b[0m \u001b[0;36m5\u001b[0m\u001b[0;34m}\u001b[0m\u001b[0;34m\u001b[0m\u001b[0;34m\u001b[0m\u001b[0m\n\u001b[1;32m     59\u001b[0m \u001b[0mprint\u001b[0m\u001b[0;34m(\u001b[0m\u001b[0mlen\u001b[0m\u001b[0;34m(\u001b[0m\u001b[0mvocab_dict\u001b[0m\u001b[0;34m)\u001b[0m\u001b[0;34m)\u001b[0m\u001b[0;34m\u001b[0m\u001b[0;34m\u001b[0m\u001b[0m\n\u001b[0;32m---> 60\u001b[0;31m \u001b[0mvocab_dict\u001b[0m \u001b[0;34m=\u001b[0m \u001b[0;34m{\u001b[0m\u001b[0mkey\u001b[0m\u001b[0;34m:\u001b[0m\u001b[0mval\u001b[0m \u001b[0;32mfor\u001b[0m \u001b[0mkey\u001b[0m \u001b[0;32min\u001b[0m \u001b[0mvocab_dict\u001b[0m\u001b[0;34m.\u001b[0m\u001b[0mitems\u001b[0m\u001b[0;34m(\u001b[0m\u001b[0;34m)\u001b[0m \u001b[0;32mif\u001b[0m \u001b[0mkey\u001b[0m \u001b[0;32mnot\u001b[0m \u001b[0;32min\u001b[0m \u001b[0mstopwords\u001b[0m\u001b[0;34m}\u001b[0m\u001b[0;34m\u001b[0m\u001b[0;34m\u001b[0m\u001b[0m\n\u001b[0m\u001b[1;32m     61\u001b[0m \u001b[0mprint\u001b[0m\u001b[0;34m(\u001b[0m\u001b[0mlen\u001b[0m\u001b[0;34m(\u001b[0m\u001b[0mvocab_dict\u001b[0m\u001b[0;34m)\u001b[0m\u001b[0;34m)\u001b[0m\u001b[0;34m\u001b[0m\u001b[0;34m\u001b[0m\u001b[0m\n",
            "\u001b[0;32m<ipython-input-111-f7b4232ca944>\u001b[0m in \u001b[0;36m<dictcomp>\u001b[0;34m(.0)\u001b[0m\n\u001b[1;32m     58\u001b[0m \u001b[0mvocab_dict\u001b[0m \u001b[0;34m=\u001b[0m \u001b[0;34m{\u001b[0m\u001b[0mkey\u001b[0m\u001b[0;34m:\u001b[0m\u001b[0mval\u001b[0m \u001b[0;32mfor\u001b[0m \u001b[0mkey\u001b[0m\u001b[0;34m,\u001b[0m \u001b[0mval\u001b[0m \u001b[0;32min\u001b[0m \u001b[0mvocab_dict\u001b[0m\u001b[0;34m.\u001b[0m\u001b[0mitems\u001b[0m\u001b[0;34m(\u001b[0m\u001b[0;34m)\u001b[0m \u001b[0;32mif\u001b[0m \u001b[0mval\u001b[0m \u001b[0;34m>\u001b[0m \u001b[0;36m5\u001b[0m\u001b[0;34m}\u001b[0m\u001b[0;34m\u001b[0m\u001b[0;34m\u001b[0m\u001b[0m\n\u001b[1;32m     59\u001b[0m \u001b[0mprint\u001b[0m\u001b[0;34m(\u001b[0m\u001b[0mlen\u001b[0m\u001b[0;34m(\u001b[0m\u001b[0mvocab_dict\u001b[0m\u001b[0;34m)\u001b[0m\u001b[0;34m)\u001b[0m\u001b[0;34m\u001b[0m\u001b[0;34m\u001b[0m\u001b[0m\n\u001b[0;32m---> 60\u001b[0;31m \u001b[0mvocab_dict\u001b[0m \u001b[0;34m=\u001b[0m \u001b[0;34m{\u001b[0m\u001b[0mkey\u001b[0m\u001b[0;34m:\u001b[0m\u001b[0mval\u001b[0m \u001b[0;32mfor\u001b[0m \u001b[0mkey\u001b[0m \u001b[0;32min\u001b[0m \u001b[0mvocab_dict\u001b[0m\u001b[0;34m.\u001b[0m\u001b[0mitems\u001b[0m\u001b[0;34m(\u001b[0m\u001b[0;34m)\u001b[0m \u001b[0;32mif\u001b[0m \u001b[0mkey\u001b[0m \u001b[0;32mnot\u001b[0m \u001b[0;32min\u001b[0m \u001b[0mstopwords\u001b[0m\u001b[0;34m}\u001b[0m\u001b[0;34m\u001b[0m\u001b[0;34m\u001b[0m\u001b[0m\n\u001b[0m\u001b[1;32m     61\u001b[0m \u001b[0mprint\u001b[0m\u001b[0;34m(\u001b[0m\u001b[0mlen\u001b[0m\u001b[0;34m(\u001b[0m\u001b[0mvocab_dict\u001b[0m\u001b[0;34m)\u001b[0m\u001b[0;34m)\u001b[0m\u001b[0;34m\u001b[0m\u001b[0;34m\u001b[0m\u001b[0m\n",
            "\u001b[0;31mNameError\u001b[0m: name 'val' is not defined"
          ]
        }
      ],
      "source": [
        "import numpy as np \n",
        "import pandas as pd \n",
        "\n",
        "def get_data(data_file_path):\n",
        "    \n",
        "    lines = []    \n",
        "    labels = []\n",
        "    \n",
        "    for line in open(data_file_path, \"r\", encoding=\"utf-8\"):\n",
        "\n",
        "        arr = line.rstrip().split(\"\\t\")\n",
        "        if len(arr) < 3:\n",
        "            continue\n",
        "        \n",
        "        if int(arr[0]) == 1:\n",
        "            label = 1\n",
        "        elif int(arr[0]) == 0 or int(arr[0]) == -1:\n",
        "            label = 0\n",
        "        else:\n",
        "            continue\n",
        "        labels.append(label)\n",
        "        \n",
        "        line = arr[2].split()\n",
        "        lines.append(line)\n",
        "        \n",
        "    return lines, labels\n",
        "\n",
        "\n",
        "def create_vocab_dict(data_lines,label):\n",
        "    vocab_dict = {}\n",
        "    for data_line in data_lines:\n",
        "      for word in data_line:\n",
        "        if word not in vocab_dict:\n",
        "            vocab_dict[word] = 0\n",
        "        vocab_dict[word] += 1*label[data_lines.index(data_line)] #只考慮詞彙在spam message的出現次數\n",
        "    return vocab_dict\n",
        "\n",
        "\n",
        "def sequence_feature(vocab_dict, input_line):\n",
        "    return_vec = []\n",
        "    for word in input_line:\n",
        "        if word in vocab_dict:\n",
        "            return_vec.append(vocab_dict[word])\n",
        "        else:\n",
        "            return_vec.append(0)\n",
        "    return return_vec\n",
        "\n",
        "\n",
        "train_file_path = \"mudou_spam_train.txt\"\n",
        "test_file_path = \"mudou_spam_test.txt\"\n",
        "\n",
        "train_data, train_label = get_data(train_file_path)\n",
        "test_data, test_label = get_data(test_file_path)\n",
        "\n",
        "\n",
        "vocab_dict = create_vocab_dict(train_data,train_label)\n",
        "print(len(vocab_dict))\n",
        "vocab_dict = {key:val for key, val in vocab_dict.items() if val > 5}\n",
        "print(len(vocab_dict))\n"
      ]
    },
    {
      "cell_type": "code",
      "execution_count": 112,
      "metadata": {
        "colab": {
          "base_uri": "https://localhost:8080/"
        },
        "id": "hz3qmihfDKQ0",
        "outputId": "3452a9ab-740e-49fe-b161-7259d70cbe7e"
      },
      "outputs": [
        {
          "name": "stdout",
          "output_type": "stream",
          "text": [
            "4412\n"
          ]
        }
      ],
      "source": [
        "vocab_dict = {key:val for key, val in vocab_dict.items() if key not in stopwords}\n",
        "print(len(vocab_dict))"
      ]
    },
    {
      "cell_type": "code",
      "execution_count": 113,
      "metadata": {
        "colab": {
          "base_uri": "https://localhost:8080/"
        },
        "id": "8JYSoCK0rJk4",
        "outputId": "44e76279-3f8f-4226-f680-03bd9556a86f"
      },
      "outputs": [
        {
          "name": "stderr",
          "output_type": "stream",
          "text": [
            "/usr/local/lib/python3.7/dist-packages/ipykernel_launcher.py:9: VisibleDeprecationWarning: Creating an ndarray from ragged nested sequences (which is a list-or-tuple of lists-or-tuples-or ndarrays with different lengths or shapes) is deprecated. If you meant to do this, you must specify 'dtype=object' when creating the ndarray.\n",
            "  if __name__ == '__main__':\n",
            "/usr/local/lib/python3.7/dist-packages/ipykernel_launcher.py:10: VisibleDeprecationWarning: Creating an ndarray from ragged nested sequences (which is a list-or-tuple of lists-or-tuples-or ndarrays with different lengths or shapes) is deprecated. If you meant to do this, you must specify 'dtype=object' when creating the ndarray.\n",
            "  # Remove the CWD from sys.path while we load stuff.\n"
          ]
        }
      ],
      "source": [
        "train_X = []\n",
        "for one_msg in train_data:\n",
        "    train_X.append(sequence_feature(vocab_dict, one_msg))\n",
        "\n",
        "test_X = []\n",
        "for one_msg in test_data:\n",
        "    test_X.append(sequence_feature(vocab_dict, one_msg))\n",
        "\n",
        "train_X = np.array(train_X)\n",
        "test_X = np.array(test_X)\n",
        "train_label = np.array(train_label)\n",
        "test_label = np.array(test_label)\n",
        "with open('n_train_X.npy', 'wb') as tr_X:\n",
        "    np.save(tr_X, train_X)\n",
        "with open('n_test_X.npy', 'wb') as te_X:\n",
        "    np.save(te_X, test_X)\n",
        "with open('n_train_label.npy', 'wb') as tr_y:\n",
        "    np.save(tr_y, train_label)\n",
        "with open('n_test_label.npy', 'wb') as te_y:\n",
        "    np.save(te_y, test_label)"
      ]
    },
    {
      "cell_type": "code",
      "execution_count": 114,
      "metadata": {
        "id": "IchDi2s3CXzh"
      },
      "outputs": [],
      "source": [
        "import numpy as np \n",
        "with open('n_train_X.npy', 'rb') as tr_X:\n",
        "  train_X = np.load(tr_X,allow_pickle=True)\n",
        "with open('n_test_X.npy', 'rb') as te_X:\n",
        "  test_X = np.load(te_X,allow_pickle=True)\n",
        "with open('n_train_label.npy', 'rb') as tr_y:\n",
        "  train_label = np.load(tr_y,allow_pickle=True)\n",
        "with open('n_test_label.npy', 'rb') as te_y:\n",
        "  test_label = np.load(te_y,allow_pickle=True)"
      ]
    },
    {
      "cell_type": "code",
      "execution_count": 115,
      "metadata": {
        "id": "Vw-nYhK5pow6"
      },
      "outputs": [],
      "source": [
        "from tensorflow.keras.preprocessing import sequence\n",
        "train_X = sequence.pad_sequences(train_X, maxlen=50)\n",
        "test_X = sequence.pad_sequences(test_X, maxlen=50)"
      ]
    },
    {
      "cell_type": "code",
      "execution_count": 117,
      "metadata": {
        "colab": {
          "base_uri": "https://localhost:8080/"
        },
        "id": "ZmnPoLGKvIDE",
        "outputId": "7f1eeca1-8ea6-478b-be03-d03f9abd0225"
      },
      "outputs": [
        {
          "data": {
            "text/plain": [
              "(10832, 50)"
            ]
          },
          "execution_count": 117,
          "metadata": {},
          "output_type": "execute_result"
        }
      ],
      "source": [
        "train_X.shape"
      ]
    },
    {
      "cell_type": "code",
      "execution_count": 60,
      "metadata": {
        "id": "YxHDiS6mNHCh"
      },
      "outputs": [],
      "source": [
        "import tensorflow as tf\n",
        "from tensorflow.keras.models import Sequential\n",
        "from tensorflow.keras.layers import Dense\n",
        "from tensorflow.keras.layers import Dropout\n",
        "from tensorflow.keras.layers import Embedding\n",
        "from tensorflow.keras.layers import LSTM"
      ]
    },
    {
      "cell_type": "code",
      "execution_count": 102,
      "metadata": {
        "colab": {
          "base_uri": "https://localhost:8080/"
        },
        "id": "xdp4KPh4NHCi",
        "outputId": "9ccfcacb-10c8-402a-9542-7cc9203fd00c"
      },
      "outputs": [
        {
          "name": "stdout",
          "output_type": "stream",
          "text": [
            "Model: \"sequential_13\"\n",
            "_________________________________________________________________\n",
            " Layer (type)                Output Shape              Param #   \n",
            "=================================================================\n",
            " embedding_11 (Embedding)    (None, None, 128)         1386496   \n",
            "                                                                 \n",
            " lstm_11 (LSTM)              (None, 128)               131584    \n",
            "                                                                 \n",
            " dropout_12 (Dropout)        (None, 128)               0         \n",
            "                                                                 \n",
            " dense_17 (Dense)            (None, 1)                 129       \n",
            "                                                                 \n",
            "=================================================================\n",
            "Total params: 1,518,209\n",
            "Trainable params: 1,518,209\n",
            "Non-trainable params: 0\n",
            "_________________________________________________________________\n"
          ]
        }
      ],
      "source": [
        "rnn_model = Sequential()\n",
        "rnn_model.add(Embedding(10832, 128))\n",
        "rnn_model.add(LSTM(128))\n",
        "rnn_model.add(Dropout(0.3)) # 增加Dropout層，防止過擬和\n",
        "rnn_model.add(Dense(1, activation='sigmoid'))\n",
        "rnn_model.compile(loss='binary_crossentropy',optimizer='adam',metrics=['accuracy'])\n",
        "rnn_model.summary()"
      ]
    },
    {
      "cell_type": "code",
      "execution_count": 118,
      "metadata": {
        "colab": {
          "base_uri": "https://localhost:8080/"
        },
        "id": "z8xXTUKpNHCj",
        "outputId": "4c7c4f3e-f306-4567-8fb8-ad13683a8176"
      },
      "outputs": [
        {
          "name": "stdout",
          "output_type": "stream",
          "text": [
            "Epoch 1/10\n",
            "85/85 [==============================] - 2s 10ms/step - loss: 0.1795 - accuracy: 0.9301\n",
            "Epoch 2/10\n",
            "85/85 [==============================] - 1s 10ms/step - loss: 0.1483 - accuracy: 0.9432\n",
            "Epoch 3/10\n",
            "85/85 [==============================] - 1s 10ms/step - loss: 0.1388 - accuracy: 0.9483\n",
            "Epoch 4/10\n",
            "85/85 [==============================] - 1s 10ms/step - loss: 0.1323 - accuracy: 0.9510\n",
            "Epoch 5/10\n",
            "85/85 [==============================] - 1s 10ms/step - loss: 0.1281 - accuracy: 0.9523\n",
            "Epoch 6/10\n",
            "85/85 [==============================] - 1s 10ms/step - loss: 0.1196 - accuracy: 0.9557\n",
            "Epoch 7/10\n",
            "85/85 [==============================] - 1s 10ms/step - loss: 0.1146 - accuracy: 0.9554\n",
            "Epoch 8/10\n",
            "85/85 [==============================] - 1s 10ms/step - loss: 0.1112 - accuracy: 0.9583\n",
            "Epoch 9/10\n",
            "85/85 [==============================] - 1s 10ms/step - loss: 0.1058 - accuracy: 0.9595\n",
            "Epoch 10/10\n",
            "85/85 [==============================] - 1s 10ms/step - loss: 0.1005 - accuracy: 0.9626\n"
          ]
        }
      ],
      "source": [
        "from keras.callbacks import EarlyStopping   # 利用Early Stopping方法節省訓練時間，如果在3個epoch內沒提升模型表現就提前終止訓練（防止花了時間訓練卻過擬和）\n",
        "from keras.callbacks import ModelCheckpoint # 利用Model Checkpoint將目前為止訓練的最佳模型暫存起來\n",
        "\n",
        "callback = [EarlyStopping(monitor='loss', patience=3, mode='min'),\n",
        "            ModelCheckpoint(filepath='rnn_best_model.h5', monitor='loss', save_best_only=True)]\n",
        "history = rnn_model.fit(train_X, train_label, batch_size=128, epochs=10, callbacks=[callback])"
      ]
    },
    {
      "cell_type": "code",
      "execution_count": 119,
      "metadata": {
        "colab": {
          "base_uri": "https://localhost:8080/",
          "height": 349
        },
        "id": "G2rPPqYqNHCj",
        "outputId": "23804696-6749-496e-dc05-543bf2773f87"
      },
      "outputs": [
        {
          "name": "stdout",
          "output_type": "stream",
          "text": [
            "44/44 [==============================] - 1s 4ms/step - loss: 0.2025 - accuracy: 0.9289\n",
            "Test accuracy:  0.9289340376853943\n",
            "Test loss:  0.2024720460176468\n"
          ]
        },
        {
          "data": {
            "image/png": "[encoded data removed]",
            "text/plain": [
              "<Figure size 432x288 with 2 Axes>"
            ]
          },
          "metadata": {
            "needs_background": "light"
          },
          "output_type": "display_data"
        }
      ],
      "source": [
        "# 模型準確度\n",
        "import matplotlib.pyplot as plt\n",
        "import seaborn as sns\n",
        "\n",
        "rnn_model = tf.keras.models.load_model('rnn_best_model.h5')\n",
        "rnn_pred = rnn_model.predict(test_X)\n",
        "rnn_y_pred = np.array([])\n",
        "for pred in rnn_pred:\n",
        "  rnn_y_pred = np.append(rnn_y_pred, round(pred[0]))\n",
        "results = rnn_model.evaluate(test_X, test_label)\n",
        "print(\"Test accuracy: \", results[1])\n",
        "print(\"Test loss: \", results[0])\n",
        "\n",
        "rnn_confusion_matrix = metrics.confusion_matrix(rnn_y_pred,test_label)\n",
        "rnn_cm = sns.heatmap(rnn_confusion_matrix, annot=True, cmap='Blues')\n",
        "rnn_cm.set_title('RNN Confusion Matrix')\n",
        "rnn_cm.set_xlabel('Predicted Values')\n",
        "rnn_cm.set_ylabel('Actual Values')\n",
        "rnn_cm.xaxis.set_ticklabels(['ham','spam'])\n",
        "rnn_cm.yaxis.set_ticklabels(['ham','spam'])\n",
        "plt.show()\n"
      ]
    },
    {
      "cell_type": "code",
      "execution_count": 83,
      "metadata": {
        "colab": {
          "base_uri": "https://localhost:8080/"
        },
        "id": "gSBDrsm4ATz6",
        "outputId": "bb0ef64f-7cc0-4739-beef-b74c78e58a8a"
      },
      "outputs": [
        {
          "name": "stdout",
          "output_type": "stream",
          "text": [
            "Model: \"sequential_8\"\n",
            "_________________________________________________________________\n",
            " Layer (type)                Output Shape              Param #   \n",
            "=================================================================\n",
            " conv1d_1 (Conv1D)           (677, 16, 32)             192416    \n",
            "                                                                 \n",
            " dense_11 (Dense)            (677, 16, 128)            4224      \n",
            "                                                                 \n",
            " dense_12 (Dense)            (677, 16, 1)              129       \n",
            "                                                                 \n",
            "=================================================================\n",
            "Total params: 196,769\n",
            "Trainable params: 196,769\n",
            "Non-trainable params: 0\n",
            "_________________________________________________________________\n"
          ]
        }
      ],
      "source": [
        "from tensorflow.keras.layers import Conv1D\n",
        "from tensorflow.keras.layers import MaxPooling1D\n",
        "from tensorflow.keras.layers import Flatten\n",
        "input_shape=(677,16,6012)\n",
        "cnn_model = Sequential()\n",
        "cnn_model.add(Conv1D(32,1, activation='relu'))\n",
        "cnn_model.add(Dense(128, activation='relu'))\n",
        "cnn_model.add(Dense(1, activation='sigmoid'))\n",
        "cnn_model.compile(loss='binary_crossentropy',optimizer='adam',metrics=['accuracy'])\n",
        "cnn_model.build(input_shape)\n",
        "cnn_model.summary()"
      ]
    },
    {
      "cell_type": "code",
      "execution_count": 7,
      "metadata": {
        "id": "TqDY0Re7Gxk6"
      },
      "outputs": [],
      "source": [
        "train_X=np.reshape(train_X,(677,16,6012))\n",
        "train_label=np.reshape(train_label,(677,16,1))"
      ]
    },
    {
      "cell_type": "code",
      "execution_count": 8,
      "metadata": {
        "colab": {
          "base_uri": "https://localhost:8080/"
        },
        "id": "_Toi3XZGCj2H",
        "outputId": "982b90d0-0bae-4287-ff34-1c25c54d631d"
      },
      "outputs": [
        {
          "name": "stdout",
          "output_type": "stream",
          "text": [
            "Epoch 1/10\n",
            "677/677 [==============================] - 14s 3ms/step - loss: 0.1776 - accuracy: 0.9291\n",
            "Epoch 2/10\n",
            "677/677 [==============================] - 2s 3ms/step - loss: 0.0489 - accuracy: 0.9840\n",
            "Epoch 3/10\n",
            "677/677 [==============================] - 2s 3ms/step - loss: 0.0174 - accuracy: 0.9942\n",
            "Epoch 4/10\n",
            "677/677 [==============================] - 2s 3ms/step - loss: 0.0081 - accuracy: 0.9977\n",
            "Epoch 5/10\n",
            "677/677 [==============================] - 2s 3ms/step - loss: 0.0049 - accuracy: 0.9989\n",
            "Epoch 6/10\n",
            "677/677 [==============================] - 2s 3ms/step - loss: 0.0038 - accuracy: 0.9991\n",
            "Epoch 7/10\n",
            "677/677 [==============================] - 2s 3ms/step - loss: 0.0031 - accuracy: 0.9992\n",
            "Epoch 8/10\n",
            "677/677 [==============================] - 2s 3ms/step - loss: 0.0099 - accuracy: 0.9990\n",
            "Epoch 9/10\n",
            "677/677 [==============================] - 2s 3ms/step - loss: 0.0129 - accuracy: 0.9954\n",
            "Epoch 10/10\n",
            "677/677 [==============================] - 2s 3ms/step - loss: 0.0058 - accuracy: 0.9983\n"
          ]
        }
      ],
      "source": [
        "from keras.callbacks import EarlyStopping\n",
        "from keras.callbacks import ModelCheckpoint\n",
        "callback = [EarlyStopping(monitor='val_loss', patience=3, mode='min'),\n",
        "            ModelCheckpoint(filepath='cnn_best_model.h5', monitor='val_loss', save_best_only=True,)]\n",
        "history = cnn_model.fit(train_X, train_label, batch_size=1, epochs=10, callbacks=[callback])"
      ]
    },
    {
      "cell_type": "code",
      "execution_count": 41,
      "metadata": {
        "colab": {
          "base_uri": "https://localhost:8080/"
        },
        "id": "sBwQp8D3O9vL",
        "outputId": "9a0a6322-f643-4162-f6f3-44b8c012b142"
      },
      "outputs": [
        {
          "name": "stdout",
          "output_type": "stream",
          "text": [
            "3/3 [==============================] - 0s 9ms/step - loss: 0.3267 - accuracy: 0.9564\n",
            "Test accuracy:  0.9563953280448914\n",
            "Test loss:  0.3266580402851105\n"
          ]
        }
      ],
      "source": [
        "# 模型準確度\n",
        "import matplotlib.pyplot as plt\n",
        "import seaborn as sns\n",
        "test_X=np.reshape(test_X[:1376,:],(86,16,6012))\n",
        "test_label=np.reshape(test_label[:1376],(86,16,1))\n",
        "cnn_model = tf.keras.models.load_model('cnn_best_model.h5')\n",
        "cnn_y_pred = cnn_model.predict(test_X)\n",
        "# cnn_y_pred = np.array([])\n",
        "# for pred in cnn_pred:\n",
        "#   cnn_y_pred = np.append(cnn_y_pred, round(pred[0]))\n",
        "results = cnn_model.evaluate(test_X, test_label)\n",
        "print(\"Test accuracy: \", results[1])\n",
        "print(\"Test loss: \", results[0])"
      ]
    },
    {
      "cell_type": "code",
      "execution_count": 38,
      "metadata": {
        "id": "K_4zFMWI7gEV"
      },
      "outputs": [],
      "source": [
        "cnn_y_pred_ = np.array([])\n",
        "for i in cnn_y_pred:\n",
        "  num = round(i[0])\n",
        "  cnn_y_pred_=np.append(cnn_y_pred_,np.array([num]))"
      ]
    },
    {
      "cell_type": "code",
      "execution_count": 42,
      "metadata": {
        "colab": {
          "base_uri": "https://localhost:8080/",
          "height": 295
        },
        "id": "XMbOauwU7Woh",
        "outputId": "763bd605-1245-474d-e8b4-5b91bfb989ab"
      },
      "outputs": [
        {
          "data": {
            "image/png": "[encoded data removed]",
            "text/plain": [
              "<Figure size 432x288 with 2 Axes>"
            ]
          },
          "metadata": {
            "needs_background": "light"
          },
          "output_type": "display_data"
        }
      ],
      "source": [
        "from sklearn import metrics\n",
        "cnn_y_pred = np.reshape(cnn_y_pred,(1376,1))\n",
        "test_label = np.reshape(test_label,(1376,1))\n",
        "cnn_confusion_matrix = metrics.confusion_matrix(cnn_y_pred_,test_label)\n",
        "cnn_cm = sns.heatmap(cnn_confusion_matrix, annot=True, cmap='Blues')\n",
        "cnn_cm.set_title('CNN Confusion Matrix')\n",
        "cnn_cm.set_xlabel('Predicted Values')\n",
        "cnn_cm.set_ylabel('Actual Values')\n",
        "cnn_cm.xaxis.set_ticklabels(['ham','spam'])\n",
        "cnn_cm.yaxis.set_ticklabels(['ham','spam'])\n",
        "plt.show()"
      ]
    }
  ],
  "metadata": {
    "accelerator": "GPU",
    "colab": {
      "collapsed_sections": [],
      "name": "final.ipynb",
      "provenance": []
    },
    "kernelspec": {
      "display_name": "Python 3.8.2 64-bit",
      "language": "python",
      "name": "python3"
    },
    "language_info": {
      "codemirror_mode": {
        "name": "ipython",
        "version": 3
      },
      "file_extension": ".py",
      "mimetype": "text/x-python",
      "name": "python",
      "nbconvert_exporter": "python",
      "pygments_lexer": "ipython3",
      "version": "3.8.2"
    },
    "vscode": {
      "interpreter": {
        "hash": "31f2aee4e71d21fbe5cf8b01ff0e069b9275f58929596ceb00d14d90e3e16cd6"
      }
    }
  },
  "nbformat": 4,
  "nbformat_minor": 0
}
